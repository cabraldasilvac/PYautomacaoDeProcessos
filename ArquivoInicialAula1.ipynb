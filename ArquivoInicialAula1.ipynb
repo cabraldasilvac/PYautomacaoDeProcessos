{
 "cells": [
  {
   "cell_type": "markdown",
   "metadata": {},
   "source": [
    "# Automação de Sistemas e Processos com Python\n",
    "\n",
    "### Desafio:\n",
    "\n",
    "Todos os dias, o nosso sistema atualiza as vendas do dia anterior.\n",
    "O seu trabalho diário, como analista, é enviar um e-mail para a diretoria, assim que começar a trabalhar, com o faturamento e a quantidade de produtos vendidos no dia anterior\n",
    "\n",
    "E-mail da diretoria: seugmail+diretoria@gmail.com<br>\n",
    "Local onde o sistema disponibiliza as vendas do dia anterior: https://drive.google.com/drive/folders/149xknr9JvrlEnhNWO49zPcw0PW5icxga?usp=sharing\n",
    "\n",
    "Para resolver isso, vamos usar o pyautogui, uma biblioteca de automação de comandos do mouse e do teclado"
   ]
  },
  {
   "cell_type": "code",
   "execution_count": null,
   "metadata": {},
   "outputs": [],
   "source": [
    "\n",
    "#!pip install pyautogui\n",
    "#!pip install pyperclip"
   ]
  },
  {
   "cell_type": "code",
   "execution_count": null,
   "metadata": {},
   "outputs": [],
   "source": [
    "# Importação das bibliotecas\n",
    "\n",
    "import pyautogui\n",
    "import pyperclip\n",
    "import time\n",
    "\n",
    "# pyautogui.hotkey -> conjunto de teclas\n",
    "# pyautogui.write -> escrever um texto\n",
    "# pyautogui.press -> apertar 1 tecla\n",
    "\n",
    "pyautogui.PAUSE = 1\n",
    "\n",
    "# Passo 1: Entrar no sistema da empresa neste exemplo entrar no Drive\n",
    "pyautogui.hotkey(\"ctrl\", \"t\") # Abrir uma nova aba\n",
    "pyperclip.copy(\"https://drive.google.com/drive/folders/149xknr9JvrlEnhNWO49zPcw0PW5icxga?usp=sharing\") # copy do link do drive\n",
    "pyautogui.hotkey(\"ctrl\", \"v\") # colar o link\n",
    "pyautogui.press(\"enter\") # Presionar o Enter\n",
    "\n",
    "# demora alguns segundinhos\n",
    "time.sleep(5)\n",
    "\n",
    "# Passo 2: Navegar no sistema e encontrar a base de dados ( entrar na pasta exportar)\n",
    "pyautogui.click(x=420, y=293, clicks=2)\n",
    "time.sleep(2)\n",
    "\n",
    "# Passo 3: Exportar/Fazer Download da Base de Dados\n",
    "pyautogui.click(x=372, y=284) # clicar no arquivo\n",
    "pyautogui.click(x=1212, y=190) # clicar nos 3 pontinhos\n",
    "pyautogui.click(x=1080, y=592) # clicar no fazer download\n",
    "time.sleep(5)"
   ]
  },
  {
   "cell_type": "markdown",
   "metadata": {},
   "source": [
    "### Vamos agora ler o arquivo baixado para pegar os indicadores\n",
    "\n",
    "- Faturamento\n",
    "- Quantidade de Produtos"
   ]
  },
  {
   "cell_type": "code",
   "execution_count": null,
   "metadata": {},
   "outputs": [],
   "source": [
    "# Passo 4: Importar a base de dados para o Python\n",
    "import pandas as pd\n",
    "\n",
    "# Todas as vezes que for passar um caminho do arquivo acrescentar um r antes do end.\n",
    "tabela = pd.read_excel(r\"C:\\Users\\cabra\\Documents\\Jupyter\\HashtagProgramacao\\IntensivaoPython\\automacaoDeProcessos\\Aula01\\Exportar\\VendasDez.xlsx\")\n",
    "display(tabela) # imprimir na tela\n",
    "\n"
   ]
  },
  {
   "cell_type": "code",
   "execution_count": null,
   "metadata": {},
   "outputs": [],
   "source": [
    "# Passo 5: Calcular os indicadores\n",
    "\n",
    "# Faturamento - soma da coluna valor final\n",
    "faturamento = tabela[\"Valor Final\"].sum()\n",
    "\n",
    "# Quantidade de produtos - soma da coluna quantidade\n",
    "quantidade = tabela[\"Quantidade\"].sum()\n",
    "# saida dos dados pode ser com o comando display ou print também\n",
    "display(\"Quantidade\", quantidade)\n",
    "display(\"Faturamento\", faturamento)"
   ]
  },
  {
   "cell_type": "markdown",
   "metadata": {},
   "source": [
    "### Vamos agora enviar um e-mail pelo gmail"
   ]
  },
  {
   "cell_type": "code",
   "execution_count": null,
   "metadata": {},
   "outputs": [],
   "source": [
    "# Passo 6: Enviar e-mail com o relatório\n",
    "# Abrir o e-mail (\"Coloque aqui o caminho do e-mail - usei o gmail\")\n",
    "pyautogui.hotkey(\"ctrl\", \"t\") # Abrir uma nova aba\n",
    "pyperclip.copy(\"Coloque aqui o caminho do e-mail - usei o gmail\") # copy do link\n",
    "pyautogui.hotkey(\"ctrl\", \"v\") # colar o link\n",
    "pyautogui.press(\"enter\") # Presionar o Enter\n",
    "time.sleep(7)\n",
    "\n",
    "# Clicar no escrever\n",
    "pyautogui.click(x=95, y=196)\n",
    "time.sleep(5)\n",
    "\n",
    "# Escreve o primeiro destinatário\n",
    "pyautogui.write(\"coloque aqui o e-mail do destinatário\")\n",
    "pyautogui.press(\"tab\") # Seleciona o destinatário\n",
    "pyautogui.press(\"tab\") # Passar para o campo de Assunto\n",
    "time.sleep(5)\n",
    "\n",
    "# Escreve o assunto\n",
    "pyperclip.copy(\"Relatório de Vendas\")\n",
    "pyautogui.hotkey(\"ctrl\", \"v\")\n",
    "pyautogui.press(\"tab\") # Passar para o corpo do e-mail\n",
    "\n",
    "# Escreve o corpo do e-mail\n",
    "# Usando três aspas simples ou duplas você pode escrever varias linhas.\n",
    "texto = f\"\"\" \n",
    "Prezados, boa tarde!\n",
    "\n",
    "O faturamento de ontem foi de: R${faturamento:,.2f}\n",
    "A quantidade de produtos vendidos foi de: {quantidade:,}\n",
    "\n",
    "Abraço\n",
    "\n",
    "WCS\"\"\"\n",
    "\n",
    "pyperclip.copy(texto)\n",
    "pyautogui.hotkey(\"ctrl\", \"v\")\n",
    "\n",
    "# Envia o e-mail\n",
    "pyautogui.hotkey(\"ctrl\", \"enter\")"
   ]
  },
  {
   "cell_type": "markdown",
   "metadata": {},
   "source": [
    "#### Use esse código para descobrir qual a posição de um item que queira clicar\n",
    "\n",
    "- Lembre-se: a posição na sua tela é diferente da posição na minha tela"
   ]
  },
  {
   "cell_type": "code",
   "execution_count": null,
   "metadata": {},
   "outputs": [],
   "source": [
    "time.sleep(5)\n",
    "pyautogui.position()"
   ]
  }
 ],
 "metadata": {
  "kernelspec": {
   "display_name": "Python 3 (ipykernel)",
   "language": "python",
   "name": "python3"
  },
  "language_info": {
   "codemirror_mode": {
    "name": "ipython",
    "version": 3
   },
   "file_extension": ".py",
   "mimetype": "text/x-python",
   "name": "python",
   "nbconvert_exporter": "python",
   "pygments_lexer": "ipython3",
   "version": "3.9.7"
  }
 },
 "nbformat": 4,
 "nbformat_minor": 4
}
